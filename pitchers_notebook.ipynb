{
 "cells": [
  {
   "cell_type": "code",
   "execution_count": 1,
   "metadata": {},
   "outputs": [],
   "source": [
    "\n",
    "import psycopg2\n",
    "import pandas as pd\n",
    "import numpy as np\n",
    "from matplotlib import pyplot as plt\n",
    "%matplotlib inline\n",
    "import seaborn as sns\n",
    "import datetime as dt\n",
    "\n",
    "\n",
    "import seaborn as sns\n",
    "import datetime\n",
    "\n",
    "from Ignore import db_cred\n",
    "conn = db_cred.connect_db()"
   ]
  },
  {
   "cell_type": "code",
   "execution_count": 2,
   "metadata": {},
   "outputs": [],
   "source": [
    "query = '''\n",
    "SELECT * \n",
    "FROM pitching AS p\n",
    "JOIN allstar_full AS allstr\n",
    "    ON allstr.\"playerID\" =p.\"playerID\"\n",
    "JOIN master as m\n",
    "    ON m.\"playerID\" =p.\"playerID\"\n",
    "WHERE allstr.\"yearID\" = p.\"yearID\" AND m.\"playerID\" =p.\"playerID\"\n",
    "ORDER BY allstr.\"yearID\" DESC, p.\"playerID\" ASC;\n",
    "'''"
   ]
  },
  {
   "cell_type": "code",
   "execution_count": 3,
   "metadata": {
    "scrolled": true
   },
   "outputs": [
    {
     "data": {
      "text/html": [
       "<div>\n",
       "<style scoped>\n",
       "    .dataframe tbody tr th:only-of-type {\n",
       "        vertical-align: middle;\n",
       "    }\n",
       "\n",
       "    .dataframe tbody tr th {\n",
       "        vertical-align: top;\n",
       "    }\n",
       "\n",
       "    .dataframe thead th {\n",
       "        text-align: right;\n",
       "    }\n",
       "</style>\n",
       "<table border=\"1\" class=\"dataframe\">\n",
       "  <thead>\n",
       "    <tr style=\"text-align: right;\">\n",
       "      <th></th>\n",
       "      <th>p_playerID</th>\n",
       "      <th>p_yearID</th>\n",
       "      <th>p_stint</th>\n",
       "      <th>p_teamID</th>\n",
       "      <th>p_lgID</th>\n",
       "      <th>p_W</th>\n",
       "      <th>p_L</th>\n",
       "      <th>p_G</th>\n",
       "      <th>p_GS</th>\n",
       "      <th>p_CG</th>\n",
       "      <th>...</th>\n",
       "      <th>m_nameLast</th>\n",
       "      <th>m_nameGiven</th>\n",
       "      <th>m_weight</th>\n",
       "      <th>m_height</th>\n",
       "      <th>m_bats</th>\n",
       "      <th>m_throws</th>\n",
       "      <th>m_debut</th>\n",
       "      <th>m_finalGame</th>\n",
       "      <th>m_retroID</th>\n",
       "      <th>m_bbrefID</th>\n",
       "    </tr>\n",
       "  </thead>\n",
       "  <tbody>\n",
       "    <tr>\n",
       "      <th>0</th>\n",
       "      <td>arrieja01</td>\n",
       "      <td>2016.0</td>\n",
       "      <td>1.0</td>\n",
       "      <td>CHN</td>\n",
       "      <td>NL</td>\n",
       "      <td>18.0</td>\n",
       "      <td>8.0</td>\n",
       "      <td>31.0</td>\n",
       "      <td>31.0</td>\n",
       "      <td>1.0</td>\n",
       "      <td>...</td>\n",
       "      <td>Arrieta</td>\n",
       "      <td>Jacob Joseph</td>\n",
       "      <td>225.0</td>\n",
       "      <td>76.0</td>\n",
       "      <td>R</td>\n",
       "      <td>R</td>\n",
       "      <td>2010-06-10</td>\n",
       "      <td>2016-09-28</td>\n",
       "      <td>arrij001</td>\n",
       "      <td>arrieja01</td>\n",
       "    </tr>\n",
       "    <tr>\n",
       "      <th>1</th>\n",
       "      <td>betande01</td>\n",
       "      <td>2016.0</td>\n",
       "      <td>1.0</td>\n",
       "      <td>NYA</td>\n",
       "      <td>AL</td>\n",
       "      <td>3.0</td>\n",
       "      <td>6.0</td>\n",
       "      <td>73.0</td>\n",
       "      <td>0.0</td>\n",
       "      <td>0.0</td>\n",
       "      <td>...</td>\n",
       "      <td>Betances</td>\n",
       "      <td>Dellin</td>\n",
       "      <td>265.0</td>\n",
       "      <td>80.0</td>\n",
       "      <td>R</td>\n",
       "      <td>R</td>\n",
       "      <td>2011-09-22</td>\n",
       "      <td>2016-10-01</td>\n",
       "      <td>betad001</td>\n",
       "      <td>betande01</td>\n",
       "    </tr>\n",
       "    <tr>\n",
       "      <th>2</th>\n",
       "      <td>brachbr01</td>\n",
       "      <td>2016.0</td>\n",
       "      <td>1.0</td>\n",
       "      <td>BAL</td>\n",
       "      <td>AL</td>\n",
       "      <td>10.0</td>\n",
       "      <td>4.0</td>\n",
       "      <td>71.0</td>\n",
       "      <td>0.0</td>\n",
       "      <td>0.0</td>\n",
       "      <td>...</td>\n",
       "      <td>Brach</td>\n",
       "      <td>Brad</td>\n",
       "      <td>215.0</td>\n",
       "      <td>78.0</td>\n",
       "      <td>R</td>\n",
       "      <td>R</td>\n",
       "      <td>2011-08-31</td>\n",
       "      <td>2016-10-01</td>\n",
       "      <td>bracb001</td>\n",
       "      <td>brachbr01</td>\n",
       "    </tr>\n",
       "    <tr>\n",
       "      <th>3</th>\n",
       "      <td>brittza01</td>\n",
       "      <td>2016.0</td>\n",
       "      <td>1.0</td>\n",
       "      <td>BAL</td>\n",
       "      <td>AL</td>\n",
       "      <td>2.0</td>\n",
       "      <td>1.0</td>\n",
       "      <td>69.0</td>\n",
       "      <td>0.0</td>\n",
       "      <td>0.0</td>\n",
       "      <td>...</td>\n",
       "      <td>Britton</td>\n",
       "      <td>Zachary Grant</td>\n",
       "      <td>195.0</td>\n",
       "      <td>75.0</td>\n",
       "      <td>L</td>\n",
       "      <td>L</td>\n",
       "      <td>2011-04-03</td>\n",
       "      <td>2016-10-02</td>\n",
       "      <td>britz001</td>\n",
       "      <td>brittza01</td>\n",
       "    </tr>\n",
       "    <tr>\n",
       "      <th>4</th>\n",
       "      <td>bumgama01</td>\n",
       "      <td>2016.0</td>\n",
       "      <td>1.0</td>\n",
       "      <td>SFN</td>\n",
       "      <td>NL</td>\n",
       "      <td>15.0</td>\n",
       "      <td>9.0</td>\n",
       "      <td>34.0</td>\n",
       "      <td>34.0</td>\n",
       "      <td>4.0</td>\n",
       "      <td>...</td>\n",
       "      <td>Bumgarner</td>\n",
       "      <td>Madison Kyle</td>\n",
       "      <td>250.0</td>\n",
       "      <td>77.0</td>\n",
       "      <td>R</td>\n",
       "      <td>L</td>\n",
       "      <td>2009-09-08</td>\n",
       "      <td>2016-09-30</td>\n",
       "      <td>bumgm001</td>\n",
       "      <td>bumgama01</td>\n",
       "    </tr>\n",
       "  </tbody>\n",
       "</table>\n",
       "<p>5 rows × 62 columns</p>\n",
       "</div>"
      ],
      "text/plain": [
       "  p_playerID  p_yearID  p_stint p_teamID p_lgID   p_W  p_L   p_G  p_GS  p_CG  \\\n",
       "0  arrieja01    2016.0      1.0      CHN     NL  18.0  8.0  31.0  31.0   1.0   \n",
       "1  betande01    2016.0      1.0      NYA     AL   3.0  6.0  73.0   0.0   0.0   \n",
       "2  brachbr01    2016.0      1.0      BAL     AL  10.0  4.0  71.0   0.0   0.0   \n",
       "3  brittza01    2016.0      1.0      BAL     AL   2.0  1.0  69.0   0.0   0.0   \n",
       "4  bumgama01    2016.0      1.0      SFN     NL  15.0  9.0  34.0  34.0   4.0   \n",
       "\n",
       "     ...      m_nameLast    m_nameGiven  m_weight  m_height  m_bats  m_throws  \\\n",
       "0    ...         Arrieta   Jacob Joseph     225.0      76.0       R         R   \n",
       "1    ...        Betances         Dellin     265.0      80.0       R         R   \n",
       "2    ...           Brach           Brad     215.0      78.0       R         R   \n",
       "3    ...         Britton  Zachary Grant     195.0      75.0       L         L   \n",
       "4    ...       Bumgarner   Madison Kyle     250.0      77.0       R         L   \n",
       "\n",
       "      m_debut  m_finalGame  m_retroID  m_bbrefID  \n",
       "0  2010-06-10   2016-09-28   arrij001  arrieja01  \n",
       "1  2011-09-22   2016-10-01   betad001  betande01  \n",
       "2  2011-08-31   2016-10-01   bracb001  brachbr01  \n",
       "3  2011-04-03   2016-10-02   britz001  brittza01  \n",
       "4  2009-09-08   2016-09-30   bumgm001  bumgama01  \n",
       "\n",
       "[5 rows x 62 columns]"
      ]
     },
     "execution_count": 3,
     "metadata": {},
     "output_type": "execute_result"
    }
   ],
   "source": [
    "df = pd.read_sql(query, conn)\n",
    "prefix_col = []\n",
    "for i, col in enumerate(list(df)):\n",
    "    if i < 30:\n",
    "        prefix_col.append('p_{}'.format(col))\n",
    "    elif i < 38:\n",
    "        prefix_col.append('allstr_{}'.format(col))\n",
    "    else:\n",
    "        prefix_col.append('m_{}'.format(col))\n",
    "        \n",
    "df.columns = prefix_col\n",
    "df.head()"
   ]
  },
  {
   "cell_type": "code",
   "execution_count": 4,
   "metadata": {},
   "outputs": [
    {
     "data": {
      "text/plain": [
       "['p_playerID',\n",
       " 'p_yearID',\n",
       " 'p_stint',\n",
       " 'p_teamID',\n",
       " 'p_lgID',\n",
       " 'p_W',\n",
       " 'p_L',\n",
       " 'p_G',\n",
       " 'p_GS',\n",
       " 'p_CG',\n",
       " 'p_SHO',\n",
       " 'p_SV',\n",
       " 'p_IPouts',\n",
       " 'p_H',\n",
       " 'p_ER',\n",
       " 'p_HR',\n",
       " 'p_BB',\n",
       " 'p_SO',\n",
       " 'p_BAOpp',\n",
       " 'p_ERA',\n",
       " 'p_IBB',\n",
       " 'p_WP',\n",
       " 'p_HBP',\n",
       " 'p_BK',\n",
       " 'p_BFP',\n",
       " 'p_GF',\n",
       " 'p_R',\n",
       " 'p_SH',\n",
       " 'p_SF',\n",
       " 'p_GIDP',\n",
       " 'allstr_playerID',\n",
       " 'allstr_yearID',\n",
       " 'allstr_gameNum',\n",
       " 'allstr_gameID',\n",
       " 'allstr_teamID',\n",
       " 'allstr_lgID',\n",
       " 'allstr_GP',\n",
       " 'allstr_startingPos',\n",
       " 'm_playerID',\n",
       " 'm_birthYear',\n",
       " 'm_birthMonth',\n",
       " 'm_birthDay',\n",
       " 'm_birthCountry',\n",
       " 'm_birthState',\n",
       " 'm_birthCity',\n",
       " 'm_deathYear',\n",
       " 'm_deathMonth',\n",
       " 'm_deathDay',\n",
       " 'm_deathCountry',\n",
       " 'm_deathState',\n",
       " 'm_deathCity',\n",
       " 'm_nameFirst',\n",
       " 'm_nameLast',\n",
       " 'm_nameGiven',\n",
       " 'm_weight',\n",
       " 'm_height',\n",
       " 'm_bats',\n",
       " 'm_throws',\n",
       " 'm_debut',\n",
       " 'm_finalGame',\n",
       " 'm_retroID',\n",
       " 'm_bbrefID']"
      ]
     },
     "execution_count": 4,
     "metadata": {},
     "output_type": "execute_result"
    }
   ],
   "source": [
    "list(df)"
   ]
  },
  {
   "cell_type": "markdown",
   "metadata": {},
   "source": [
    "Trim Data"
   ]
  },
  {
   "cell_type": "markdown",
   "metadata": {},
   "source": [
    "Number of \"All Star\" Pitchers to Debut after Intergratoin (1947)"
   ]
  },
  {
   "cell_type": "code",
   "execution_count": 5,
   "metadata": {},
   "outputs": [
    {
     "data": {
      "text/plain": [
       "633"
      ]
     },
     "execution_count": 5,
     "metadata": {},
     "output_type": "execute_result"
    }
   ],
   "source": [
    "df = df[df.m_debut>datetime.datetime(1947, 1, 1).date()]\n",
    "df['m_playerID'].nunique()"
   ]
  },
  {
   "cell_type": "markdown",
   "metadata": {},
   "source": [
    "FIP vs ERA"
   ]
  },
  {
   "cell_type": "markdown",
   "metadata": {},
   "source": [
    "Calculate FIP then Plot FIP vs ERA\n",
    "\n",
    "Fielding Independent Pitching converts a pitcher's three true outcomes into an earned run average-like number. The formula is (13*HR+3*(HBP+BB)-2*K)/IP, plus a constant (usually around 3.2) to put it on the same scale as earned run average."
   ]
  },
  {
   "cell_type": "code",
   "execution_count": 6,
   "metadata": {},
   "outputs": [
    {
     "ename": "TypeError",
     "evalue": "'int' object is not callable",
     "output_type": "error",
     "traceback": [
      "\u001b[0;31m---------------------------------------------------------------------------\u001b[0m",
      "\u001b[0;31mTypeError\u001b[0m                                 Traceback (most recent call last)",
      "\u001b[0;32m<ipython-input-6-c7506605d2ae>\u001b[0m in \u001b[0;36m<module>\u001b[0;34m()\u001b[0m\n\u001b[0;32m----> 1\u001b[0;31m \u001b[0mdf\u001b[0m\u001b[0;34m[\u001b[0m\u001b[0;34m\"p_fip\"\u001b[0m\u001b[0;34m]\u001b[0m \u001b[0;34m=\u001b[0m \u001b[0;34m(\u001b[0m\u001b[0;36m13\u001b[0m \u001b[0;34m*\u001b[0m \u001b[0mdf\u001b[0m\u001b[0;34m[\u001b[0m\u001b[0;34m\"p_HR\"\u001b[0m\u001b[0;34m]\u001b[0m \u001b[0;34m+\u001b[0m \u001b[0;36m3\u001b[0m \u001b[0;34m(\u001b[0m\u001b[0mdf\u001b[0m\u001b[0;34m[\u001b[0m\u001b[0;34m\"p_HBP\"\u001b[0m\u001b[0;34m]\u001b[0m \u001b[0;34m+\u001b[0m \u001b[0mdf\u001b[0m\u001b[0;34m[\u001b[0m\u001b[0;34m\"p_BB\"\u001b[0m\u001b[0;34m]\u001b[0m\u001b[0;34m)\u001b[0m \u001b[0;34m-\u001b[0m \u001b[0;36m2\u001b[0m \u001b[0;34m*\u001b[0m \u001b[0mdf\u001b[0m\u001b[0;34m[\u001b[0m\u001b[0;34m\"p_SO\"\u001b[0m\u001b[0;34m]\u001b[0m\u001b[0;34m)\u001b[0m \u001b[0;34m/\u001b[0m \u001b[0;34m(\u001b[0m\u001b[0mdf\u001b[0m\u001b[0;34m[\u001b[0m\u001b[0;34m\"p_IPouts\"\u001b[0m\u001b[0;34m]\u001b[0m \u001b[0;34m/\u001b[0m \u001b[0;36m3\u001b[0m\u001b[0;34m)\u001b[0m\u001b[0;34m\u001b[0m\u001b[0m\n\u001b[0m\u001b[1;32m      2\u001b[0m \u001b[0;34m\u001b[0m\u001b[0m\n\u001b[1;32m      3\u001b[0m \u001b[0;34m\u001b[0m\u001b[0m\n\u001b[1;32m      4\u001b[0m \u001b[0;34m\u001b[0m\u001b[0m\n\u001b[1;32m      5\u001b[0m \u001b[0;34m\u001b[0m\u001b[0m\n",
      "\u001b[0;31mTypeError\u001b[0m: 'int' object is not callable"
     ]
    }
   ],
   "source": [
    "df[\"p_fip\"] = (13 * df[\"p_HR\"] + 3 (df[\"p_HBP\"] + df[\"p_BB\"]) - 2 * df[\"p_SO\"]) / (df[\"p_IPouts\"] / 3)\n",
    "\n",
    "\n",
    "\n",
    "\n",
    "\n",
    "# df['My new column'] = 'default value'\n"
   ]
  },
  {
   "cell_type": "markdown",
   "metadata": {},
   "source": [
    "WHIP vs ERA? \n",
    "\n",
    "WHIP=(BB+H)/IP "
   ]
  },
  {
   "cell_type": "code",
   "execution_count": 40,
   "metadata": {},
   "outputs": [
    {
     "ename": "TypeError",
     "evalue": "unsupported operand type(s) for /: 'list' and 'int'",
     "output_type": "error",
     "traceback": [
      "\u001b[0;31m---------------------------------------------------------------------------\u001b[0m",
      "\u001b[0;31mTypeError\u001b[0m                                 Traceback (most recent call last)",
      "\u001b[0;32m<ipython-input-40-d0b30b0dfa2f>\u001b[0m in \u001b[0;36m<module>\u001b[0;34m()\u001b[0m\n\u001b[0;32m----> 1\u001b[0;31m \u001b[0mdf\u001b[0m\u001b[0;34m[\u001b[0m\u001b[0;34m\"p_whip\"\u001b[0m\u001b[0;34m]\u001b[0m \u001b[0;34m=\u001b[0m \u001b[0;34m(\u001b[0m\u001b[0mdf\u001b[0m\u001b[0;34m[\u001b[0m\u001b[0;34m\"p_BB\"\u001b[0m\u001b[0;34m]\u001b[0m \u001b[0;34m+\u001b[0m \u001b[0mdf\u001b[0m\u001b[0;34m[\u001b[0m\u001b[0;34m\"p_H\"\u001b[0m\u001b[0;34m]\u001b[0m\u001b[0;34m)\u001b[0m\u001b[0;34m/\u001b[0m\u001b[0;34m(\u001b[0m\u001b[0;34m[\u001b[0m\u001b[0;34m\"p_IPouts\"\u001b[0m\u001b[0;34m]\u001b[0m\u001b[0;34m/\u001b[0m\u001b[0;36m3\u001b[0m\u001b[0;34m)\u001b[0m\u001b[0;34m\u001b[0m\u001b[0m\n\u001b[0m",
      "\u001b[0;31mTypeError\u001b[0m: unsupported operand type(s) for /: 'list' and 'int'"
     ]
    }
   ],
   "source": [
    "df[\"p_whip\"] = (df[\"p_BB\"] + df[\"p_H\"])/([\"p_IPouts\"]/3)"
   ]
  },
  {
   "cell_type": "markdown",
   "metadata": {},
   "source": [
    "gameScore (Bill James https://en.wikipedia.org/wiki/Game_score)\n",
    "\n",
    "\n",
    "ratingAdj=4.7∗(pitcherrGS–teamrGS) --> pitcher rating relative to his team's rating"
   ]
  },
  {
   "cell_type": "markdown",
   "metadata": {},
   "source": [
    "Calculate gameScore=47.4+strikeouts+(outs∗1.5)–(walks∗2)–(hits∗2)–(runs∗3)–(homeruns∗4)"
   ]
  },
  {
   "cell_type": "code",
   "execution_count": null,
   "metadata": {},
   "outputs": [],
   "source": []
  },
  {
   "cell_type": "markdown",
   "metadata": {},
   "source": [
    "BABIP The formula: Hits minus home runs, divided by at-bats minus home runs minus strikeouts plus sacrifice flies \n",
    "Babip Formula (H - HR)/(AB - HR - K + SF).\n"
   ]
  },
  {
   "cell_type": "code",
   "execution_count": null,
   "metadata": {},
   "outputs": [],
   "source": []
  },
  {
   "cell_type": "code",
   "execution_count": 41,
   "metadata": {},
   "outputs": [
    {
     "data": {
      "text/plain": [
       "<matplotlib.axes._subplots.AxesSubplot at 0x1a1e3500f0>"
      ]
     },
     "execution_count": 41,
     "metadata": {},
     "output_type": "execute_result"
    },
    {
     "data": {
      "image/png": "[encoded data removed]",
      "text/plain": [
       "<Figure size 432x288 with 1 Axes>"
      ]
     },
     "metadata": {},
     "output_type": "display_data"
    }
   ],
   "source": [
    "sns.kdeplot(df['p_G'].dropna())\n"
   ]
  },
  {
   "cell_type": "code",
   "execution_count": 42,
   "metadata": {},
   "outputs": [
    {
     "name": "stderr",
     "output_type": "stream",
     "text": [
      "/Users/md1265/anaconda3/lib/python3.6/site-packages/matplotlib/axes/_axes.py:6462: UserWarning: The 'normed' kwarg is deprecated, and has been replaced by the 'density' kwarg.\n",
      "  warnings.warn(\"The 'normed' kwarg is deprecated, and has been \"\n"
     ]
    },
    {
     "data": {
      "text/plain": [
       "<matplotlib.axes._subplots.AxesSubplot at 0x1a1e3643c8>"
      ]
     },
     "execution_count": 42,
     "metadata": {},
     "output_type": "execute_result"
    },
    {
     "data": {
      "image/png": "[encoded data removed]",
      "text/plain": [
       "<Figure size 432x288 with 1 Axes>"
      ]
     },
     "metadata": {},
     "output_type": "display_data"
    }
   ],
   "source": [
    "sns.distplot(df['p_GS'].dropna())"
   ]
  },
  {
   "cell_type": "code",
   "execution_count": 43,
   "metadata": {},
   "outputs": [
    {
     "name": "stderr",
     "output_type": "stream",
     "text": [
      "/Users/md1265/anaconda3/lib/python3.6/site-packages/matplotlib/axes/_axes.py:6462: UserWarning: The 'normed' kwarg is deprecated, and has been replaced by the 'density' kwarg.\n",
      "  warnings.warn(\"The 'normed' kwarg is deprecated, and has been \"\n",
      "/Users/md1265/anaconda3/lib/python3.6/site-packages/matplotlib/axes/_axes.py:6462: UserWarning: The 'normed' kwarg is deprecated, and has been replaced by the 'density' kwarg.\n",
      "  warnings.warn(\"The 'normed' kwarg is deprecated, and has been \"\n"
     ]
    },
    {
     "data": {
      "text/plain": [
       "<seaborn.axisgrid.JointGrid at 0x1a1ddc16a0>"
      ]
     },
     "execution_count": 43,
     "metadata": {},
     "output_type": "execute_result"
    },
    {
     "data": {
      "image/png": "[encoded data removed]",
      "text/plain": [
       "<Figure size 432x432 with 3 Axes>"
      ]
     },
     "metadata": {},
     "output_type": "display_data"
    }
   ],
   "source": [
    "sns.jointplot(x=\"p_GS\", y=\"p_G\", data=df)\n",
    "\n",
    "# Games vs Gamse started \n",
    "#Cut out relievers by saying \"everyone over X amount of starts\" (15?)\n",
    "# What does this achieve? It shows us the amount of pitchers that are \"Allstars\" as Career starting pitchers. \n",
    "#are there many pitchers who succeed as Starting Pitcher and Relief Pitcher? "
   ]
  },
  {
   "cell_type": "code",
   "execution_count": null,
   "metadata": {},
   "outputs": [],
   "source": []
  },
  {
   "cell_type": "code",
   "execution_count": 44,
   "metadata": {},
   "outputs": [
    {
     "name": "stderr",
     "output_type": "stream",
     "text": [
      "/Users/md1265/anaconda3/lib/python3.6/site-packages/matplotlib/axes/_axes.py:6462: UserWarning: The 'normed' kwarg is deprecated, and has been replaced by the 'density' kwarg.\n",
      "  warnings.warn(\"The 'normed' kwarg is deprecated, and has been \"\n",
      "/Users/md1265/anaconda3/lib/python3.6/site-packages/matplotlib/axes/_axes.py:6462: UserWarning: The 'normed' kwarg is deprecated, and has been replaced by the 'density' kwarg.\n",
      "  warnings.warn(\"The 'normed' kwarg is deprecated, and has been \"\n"
     ]
    },
    {
     "data": {
      "text/plain": [
       "<seaborn.axisgrid.JointGrid at 0x1a1ddd1780>"
      ]
     },
     "execution_count": 44,
     "metadata": {},
     "output_type": "execute_result"
    },
    {
     "data": {
      "image/png": "[encoded data removed]",
      "text/plain": [
       "<Figure size 432x432 with 3 Axes>"
      ]
     },
     "metadata": {},
     "output_type": "display_data"
    }
   ],
   "source": [
    "sns.jointplot(x=\"p_R\", y=\"p_ER\", data=df)\n"
   ]
  },
  {
   "cell_type": "code",
   "execution_count": 45,
   "metadata": {},
   "outputs": [],
   "source": [
    "#  All star pitchers vs non_allstar pitchers  --> FIP, ERA, WHIP, BABIP, gameScore \n",
    "# over X amount of Starts and X amount of relief innings "
   ]
  },
  {
   "cell_type": "code",
   "execution_count": 69,
   "metadata": {},
   "outputs": [],
   "source": [
    "query2 = '''\n",
    "SELECT * \n",
    "FROM pitching AS pitch\n",
    "'''\n",
    "\n",
    "df2 = pd.read_sql(query2, conn)\n",
    "\n"
   ]
  },
  {
   "cell_type": "code",
   "execution_count": 70,
   "metadata": {},
   "outputs": [],
   "source": [
    "df3 = [df, df2]\n",
    "\n"
   ]
  },
  {
   "cell_type": "code",
   "execution_count": null,
   "metadata": {},
   "outputs": [],
   "source": [
    "fmri = sns.load_dataset(data=df3)\n",
    "sns.relplot(x=\"p_GS\", y=\"p_ER\", col=\"idk\",\n",
    "            hue=\"event\", style=\"event\",\n",
    "            kind=\"line\", data=fmri)\n",
    "\n"
   ]
  },
  {
   "cell_type": "code",
   "execution_count": 75,
   "metadata": {},
   "outputs": [
    {
     "data": {
      "text/plain": [
       "[     p_playerID  p_yearID  p_stint p_teamID p_lgID   p_W   p_L   p_G  p_GS  \\\n",
       " 0     arrieja01    2016.0      1.0      CHN     NL  18.0   8.0  31.0  31.0   \n",
       " 1     betande01    2016.0      1.0      NYA     AL   3.0   6.0  73.0   0.0   \n",
       " 2     brachbr01    2016.0      1.0      BAL     AL  10.0   4.0  71.0   0.0   \n",
       " 3     brittza01    2016.0      1.0      BAL     AL   2.0   1.0  69.0   0.0   \n",
       " 4     bumgama01    2016.0      1.0      SFN     NL  15.0   9.0  34.0  34.0   \n",
       " 5     colomal01    2016.0      1.0      TBA     AL   2.0   4.0  57.0   0.0   \n",
       " 6     colonba01    2016.0      1.0      NYN     NL  15.0   8.0  34.0  33.0   \n",
       " 7     cuetojo01    2016.0      1.0      SFN     NL  18.0   5.0  32.0  32.0   \n",
       " 8     daviswa01    2016.0      1.0      KCA     AL   2.0   1.0  45.0   0.0   \n",
       " 9     estrama01    2016.0      1.0      TOR     AL   9.0   9.0  29.0  29.0   \n",
       " 10    familje01    2016.0      1.0      NYN     NL   3.0   4.0  78.0   0.0   \n",
       " 11    fernajo02    2016.0      1.0      MIA     NL  16.0   8.0  29.0  29.0   \n",
       " 12    hamelco01    2016.0      1.0      TEX     AL  15.0   5.0  32.0  32.0   \n",
       " 13    harriwi02    2016.0      1.0      HOU     AL   1.0   2.0  66.0   0.0   \n",
       " 14    herreke01    2016.0      1.0      KCA     AL   2.0   6.0  72.0   0.0   \n",
       " 15    janseke01    2016.0      1.0      LAN     NL   3.0   2.0  71.0   0.0   \n",
       " 16    kershcl01    2016.0      1.0      LAN     NL  12.0   4.0  21.0  21.0   \n",
       " 17    kimbrcr01    2016.0      1.0      BOS     AL   2.0   6.0  57.0   0.0   \n",
       " 18    klubeco01    2016.0      1.0      CLE     AL  18.0   9.0  32.0  32.0   \n",
       " 19    lestejo01    2016.0      1.0      CHN     NL  19.0   5.0  32.0  32.0   \n",
       " 20    melanma01    2016.0      1.0      PIT     NL   1.0   1.0  45.0   0.0   \n",
       " 21    melanma01    2016.0      2.0      WAS     NL   1.0   1.0  30.0   0.0   \n",
       " 22    millean01    2016.0      1.0      NYA     AL   6.0   1.0  44.0   0.0   \n",
       " 23    millean01    2016.0      2.0      CLE     AL   4.0   0.0  26.0   0.0   \n",
       " 24    pomerdr01    2016.0      1.0      SDN     NL   8.0   7.0  17.0  17.0   \n",
       " 25    pomerdr01    2016.0      2.0      BOS     AL   3.0   5.0  14.0  13.0   \n",
       " 26    quintjo01    2016.0      1.0      CHA     AL  13.0  12.0  32.0  32.0   \n",
       " 27    ramosaj01    2016.0      1.0      MIA     NL   1.0   4.0  67.0   0.0   \n",
       " 28    rodnefe01    2016.0      2.0      MIA     NL   2.0   3.0  39.0   0.0   \n",
       " 29    rodnefe01    2016.0      1.0      SDN     NL   0.0   1.0  28.0   0.0   \n",
       " ...         ...       ...      ...      ...    ...   ...   ...   ...   ...   \n",
       " 1413  paigesa01    1953.0      1.0      SLA     AL   3.0   9.0  57.0   4.0   \n",
       " 1416  roberro01    1953.0      1.0      PHI     NL  23.0  16.0  44.0  41.0   \n",
       " 1418  simmocu01    1953.0      1.0      PHI     NL  16.0  13.0  32.0  30.0   \n",
       " 1420  stalege01    1953.0      1.0      SLN     NL  18.0   9.0  40.0  32.0   \n",
       " 1421  wilheho01    1953.0      1.0      NY1     NL   7.0   8.0  68.0   0.0   \n",
       " 1422  garcimi01    1952.0      1.0      CLE     AL  22.0  11.0  46.0  36.0   \n",
       " 1423  hearnji01    1952.0      1.0      NY1     NL  14.0   7.0  37.0  34.0   \n",
       " 1427  paigesa01    1952.0      1.0      SLA     AL  12.0  10.0  46.0   6.0   \n",
       " 1430  roberro01    1952.0      1.0      PHI     NL  28.0   7.0  39.0  37.0   \n",
       " 1432   rushbo01    1952.0      1.0      CHN     NL  17.0  13.0  34.0  32.0   \n",
       " 1433  shantbo01    1952.0      1.0      PHA     AL  24.0   7.0  33.0  33.0   \n",
       " 1434  simmocu01    1952.0      1.0      PHI     NL  14.0   8.0  28.0  28.0   \n",
       " 1436  stalege01    1952.0      1.0      SLN     NL  17.0  14.0  35.0  33.0   \n",
       " 1438  garvene01    1951.0      1.0      SLA     AL  20.0  12.0  33.0  30.0   \n",
       " 1441  jansela01    1951.0      1.0      NY1     NL  23.0  11.0  39.0  34.0   \n",
       " 1446  marreco01    1951.0      1.0      WS1     AL  11.0   9.0  25.0  25.0   \n",
       " 1447  newcodo01    1951.0      1.0      BRO     NL  20.0   9.0  40.0  36.0   \n",
       " 1448  parneme01    1951.0      1.0      BOS     AL  18.0  11.0  36.0  29.0   \n",
       " 1449  roberro01    1951.0      1.0      PHI     NL  21.0  15.0  44.0  39.0   \n",
       " 1451  shantbo01    1951.0      1.0      PHA     AL  18.0  10.0  32.0  25.0   \n",
       " 1458  jansela01    1950.0      1.0      NY1     NL  19.0  13.0  40.0  35.0   \n",
       " 1461  newcodo01    1950.0      1.0      BRO     NL  19.0  11.0  40.0  35.0   \n",
       " 1464  roberro01    1950.0      1.0      PHI     NL  20.0  11.0  40.0  39.0   \n",
       " 1466   rushbo01    1950.0      1.0      CHN     NL  13.0  20.0  39.0  34.0   \n",
       " 1470  bickfve01    1949.0      1.0      BSN     NL  16.0  11.0  37.0  36.0   \n",
       " 1473  brisslo01    1949.0      1.0      PHA     AL  16.0  11.0  34.0  29.0   \n",
       " 1474  kellnal01    1949.0      1.0      PHA     AL  20.0  12.0  38.0  27.0   \n",
       " 1477  newcodo01    1949.0      1.0      BRO     NL  17.0   8.0  38.0  31.0   \n",
       " 1478  parneme01    1949.0      1.0      BOS     AL  25.0   7.0  39.0  33.0   \n",
       " 1512   sheasp01    1947.0      1.0      NYA     AL  14.0   5.0  27.0  23.0   \n",
       " \n",
       "       p_CG    ...      m_nameLast        m_nameGiven  m_weight  m_height  \\\n",
       " 0      1.0    ...         Arrieta       Jacob Joseph     225.0      76.0   \n",
       " 1      0.0    ...        Betances             Dellin     265.0      80.0   \n",
       " 2      0.0    ...           Brach               Brad     215.0      78.0   \n",
       " 3      0.0    ...         Britton      Zachary Grant     195.0      75.0   \n",
       " 4      4.0    ...       Bumgarner       Madison Kyle     250.0      77.0   \n",
       " 5      0.0    ...          Colome   Alexander Manuel     220.0      74.0   \n",
       " 6      0.0    ...           Colon            Bartolo     285.0      71.0   \n",
       " 7      5.0    ...           Cueto             Johnny     220.0      71.0   \n",
       " 8      0.0    ...           Davis         Wade Allen     225.0      77.0   \n",
       " 9      0.0    ...         Estrada         Marco Rene     200.0      72.0   \n",
       " 10     0.0    ...         Familia             Jeurys     240.0      75.0   \n",
       " 11     0.0    ...       Fernandez            Jose D.     240.0      75.0   \n",
       " 12     0.0    ...          Hamels    Colbert Michael     205.0      76.0   \n",
       " 13     0.0    ...          Harris     William Taylor     250.0      76.0   \n",
       " 14     0.0    ...         Herrera    Kelvin De Jesus     200.0      70.0   \n",
       " 15     0.0    ...          Jansen    Kenley Geronimo     270.0      77.0   \n",
       " 16     3.0    ...         Kershaw     Clayton Edward     225.0      76.0   \n",
       " 17     0.0    ...         Kimbrel      Craig Michael     220.0      71.0   \n",
       " 18     3.0    ...          Kluber        Corey Scott     215.0      76.0   \n",
       " 19     2.0    ...          Lester     Jonathan Tyler     240.0      76.0   \n",
       " 20     0.0    ...        Melancon            Mark D.     210.0      74.0   \n",
       " 21     0.0    ...        Melancon            Mark D.     210.0      74.0   \n",
       " 22     0.0    ...          Miller        Andrew Mark     205.0      79.0   \n",
       " 23     0.0    ...          Miller        Andrew Mark     205.0      79.0   \n",
       " 24     0.0    ...        Pomeranz      Thomas Andrew     240.0      78.0   \n",
       " 25     0.0    ...        Pomeranz      Thomas Andrew     240.0      78.0   \n",
       " 26     0.0    ...        Quintana     Jose Guillermo     220.0      73.0   \n",
       " 27     0.0    ...           Ramos          Alejandro     200.0      70.0   \n",
       " 28     0.0    ...          Rodney           Fernando     230.0      71.0   \n",
       " 29     0.0    ...          Rodney           Fernando     230.0      71.0   \n",
       " ...    ...    ...             ...                ...       ...       ...   \n",
       " 1413   0.0    ...           Paige       Leroy Robert     180.0      75.0   \n",
       " 1416  33.0    ...         Roberts         Robin Evan     190.0      72.0   \n",
       " 1418  19.0    ...         Simmons      Curtis Thomas     175.0      71.0   \n",
       " 1420  10.0    ...          Staley         Gerald Lee     195.0      72.0   \n",
       " 1421   0.0    ...         Wilhelm         James Hoyt     190.0      72.0   \n",
       " 1422  19.0    ...          Garcia      Edward Miguel     195.0      73.0   \n",
       " 1423  11.0    ...           Hearn      James Tolbert     205.0      75.0   \n",
       " 1427   3.0    ...           Paige       Leroy Robert     180.0      75.0   \n",
       " 1430  30.0    ...         Roberts         Robin Evan     190.0      72.0   \n",
       " 1432  17.0    ...            Rush      Robert Ransom     205.0      76.0   \n",
       " 1433  27.0    ...          Shantz     Robert Clayton     139.0      66.0   \n",
       " 1434  15.0    ...         Simmons      Curtis Thomas     175.0      71.0   \n",
       " 1436  15.0    ...          Staley         Gerald Lee     195.0      72.0   \n",
       " 1438  24.0    ...          Garver       Ned Franklin     180.0      70.0   \n",
       " 1441  18.0    ...          Jansen    Lawrence Joseph     190.0      74.0   \n",
       " 1446  16.0    ...         Marrero    Conrado Eugenio     158.0      65.0   \n",
       " 1447  18.0    ...        Newcombe             Donald     220.0      76.0   \n",
       " 1448  11.0    ...         Parnell       Melvin Lloyd     180.0      72.0   \n",
       " 1449  22.0    ...         Roberts         Robin Evan     190.0      72.0   \n",
       " 1451  13.0    ...          Shantz     Robert Clayton     139.0      66.0   \n",
       " 1458  21.0    ...          Jansen    Lawrence Joseph     190.0      74.0   \n",
       " 1461  20.0    ...        Newcombe             Donald     220.0      76.0   \n",
       " 1464  21.0    ...         Roberts         Robin Evan     190.0      72.0   \n",
       " 1466  19.0    ...            Rush      Robert Ransom     205.0      76.0   \n",
       " 1470  15.0    ...        Bickford      Vernon Edgell     180.0      72.0   \n",
       " 1473  18.0    ...         Brissie      Leland Victor     210.0      76.0   \n",
       " 1474  19.0    ...         Kellner  Alexander Raymond     200.0      72.0   \n",
       " 1477  19.0    ...        Newcombe             Donald     220.0      76.0   \n",
       " 1478  27.0    ...         Parnell       Melvin Lloyd     180.0      72.0   \n",
       " 1512  13.0    ...            Shea     Francis Joseph     195.0      72.0   \n",
       " \n",
       "       m_bats  m_throws     m_debut  m_finalGame  m_retroID  m_bbrefID  \n",
       " 0          R         R  2010-06-10   2016-09-28   arrij001  arrieja01  \n",
       " 1          R         R  2011-09-22   2016-10-01   betad001  betande01  \n",
       " 2          R         R  2011-08-31   2016-10-01   bracb001  brachbr01  \n",
       " 3          L         L  2011-04-03   2016-10-02   britz001  brittza01  \n",
       " 4          R         L  2009-09-08   2016-09-30   bumgm001  bumgama01  \n",
       " 5          R         R  2013-05-30   2016-10-02   coloa001  colomal01  \n",
       " 6          R         R  1997-04-04   2016-10-01   colob001  colonba01  \n",
       " 7          R         R  2008-04-03   2016-09-29   cuetj001  cuetojo01  \n",
       " 8          R         R  2009-09-06   2016-10-02   daviw001  daviswa01  \n",
       " 9          R         R  2008-08-20   2016-09-30   estrm001  estrama01  \n",
       " 10         R         R  2012-09-04   2016-10-01   famij001  familje01  \n",
       " 11         R         R  2013-04-07   2016-09-20   fernj003  fernajo02  \n",
       " 12         L         L  2006-05-12   2016-09-28   hamec001  hamelco01  \n",
       " 13         R         R  2012-08-13   2016-09-28   harrw002  harriwi10  \n",
       " 14         R         R  2011-09-21   2016-09-29   herrk001  herreke01  \n",
       " 15         B         R  2010-07-24   2016-10-01   jansk001  janseke01  \n",
       " 16         L         L  2008-05-25   2016-10-01   kersc001  kershcl01  \n",
       " 17         R         R  2010-05-07   2016-10-01   kimbc001  kimbrcr01  \n",
       " 18         R         R  2011-09-01   2016-09-26   klubc001  klubeco01  \n",
       " 19         L         L  2006-06-10   2016-10-01   lestj001  lestejo01  \n",
       " 20         R         R  2009-04-26   2016-10-02   melam001  melanma01  \n",
       " 21         R         R  2009-04-26   2016-10-02   melam001  melanma01  \n",
       " 22         L         L  2006-08-30   2016-10-02   milla002  millean01  \n",
       " 23         L         L  2006-08-30   2016-10-02   milla002  millean01  \n",
       " 24         R         L  2011-09-11   2016-10-02   pomed001  pomerdr01  \n",
       " 25         R         L  2011-09-11   2016-10-02   pomed001  pomerdr01  \n",
       " 26         R         L  2012-05-07   2016-09-29   quinj001  quintjo01  \n",
       " 27         R         R  2012-09-04   2016-09-30   ramoa001  ramosaj01  \n",
       " 28         R         R  2002-05-04   2016-10-01   rodnf001  rodnefe01  \n",
       " 29         R         R  2002-05-04   2016-10-01   rodnf001  rodnefe01  \n",
       " ...      ...       ...         ...          ...        ...        ...  \n",
       " 1413       R         R  1948-07-09   1965-09-25   paigs101  paigesa01  \n",
       " 1416       B         R  1948-06-18   1966-09-03   rober102  roberro01  \n",
       " 1418       L         L  1947-09-28   1967-10-01   simmc101  simmocu01  \n",
       " 1420       R         R  1947-04-20   1961-09-25   stalg103  stalege01  \n",
       " 1421       R         R  1952-04-18   1972-07-10   wilhh101  wilheho01  \n",
       " 1422       R         R  1948-10-03   1961-09-02   garcm101  garcimi01  \n",
       " 1423       R         R  1947-04-17   1959-05-15   hearj102  hearnji01  \n",
       " 1427       R         R  1948-07-09   1965-09-25   paigs101  paigesa01  \n",
       " 1430       B         R  1948-06-18   1966-09-03   rober102  roberro01  \n",
       " 1432       R         R  1948-04-22   1960-08-07   rushb101   rushbo01  \n",
       " 1433       R         L  1949-05-01   1964-09-29   shanb102  shantbo01  \n",
       " 1434       L         L  1947-09-28   1967-10-01   simmc101  simmocu01  \n",
       " 1436       R         R  1947-04-20   1961-09-25   stalg103  stalege01  \n",
       " 1438       R         R  1948-04-28   1961-06-04   garvn102  garvene01  \n",
       " 1441       R         R  1947-04-17   1956-09-25   jansl101  jansela01  \n",
       " 1446       R         R  1950-04-21   1954-09-07   marrc101  marreco01  \n",
       " 1447       L         R  1949-05-20   1960-10-01   newcd101  newcodo01  \n",
       " 1448       L         L  1947-04-20   1956-09-29   parnm101  parneme01  \n",
       " 1449       B         R  1948-06-18   1966-09-03   rober102  roberro01  \n",
       " 1451       R         L  1949-05-01   1964-09-29   shanb102  shantbo01  \n",
       " 1458       R         R  1947-04-17   1956-09-25   jansl101  jansela01  \n",
       " 1461       L         R  1949-05-20   1960-10-01   newcd101  newcodo01  \n",
       " 1464       B         R  1948-06-18   1966-09-03   rober102  roberro01  \n",
       " 1466       R         R  1948-04-22   1960-08-07   rushb101   rushbo01  \n",
       " 1470       R         R  1948-04-24   1954-04-24   bickv101  bickfve01  \n",
       " 1473       L         L  1947-09-28   1953-09-01   brisl101  brisslo01  \n",
       " 1474       R         L  1948-04-29   1959-06-23   kella103  kellnal01  \n",
       " 1477       L         R  1949-05-20   1960-10-01   newcd101  newcodo01  \n",
       " 1478       L         L  1947-04-20   1956-09-29   parnm101  parneme01  \n",
       " 1512       R         R  1947-04-19   1955-08-27   sheas101   sheasp01  \n",
       " \n",
       " [1405 rows x 62 columns],\n",
       "         playerID  yearID  stint teamID lgID     W     L     G    GS    CG  \\\n",
       " 0      bechtge01  1871.0    1.0    PH1   NA   1.0   2.0   3.0   3.0   2.0   \n",
       " 1      brainas01  1871.0    1.0    WS3   NA  12.0  15.0  30.0  30.0  30.0   \n",
       " 2      fergubo01  1871.0    1.0    NY2   NA   0.0   0.0   1.0   0.0   0.0   \n",
       " 3      fishech01  1871.0    1.0    RC1   NA   4.0  16.0  24.0  24.0  22.0   \n",
       " 4      fleetfr01  1871.0    1.0    NY2   NA   0.0   1.0   1.0   1.0   1.0   \n",
       " 5      flowedi01  1871.0    1.0    TRO   NA   0.0   0.0   1.0   0.0   0.0   \n",
       " 6       mackde01  1871.0    1.0    RC1   NA   0.0   1.0   3.0   1.0   1.0   \n",
       " 7      mathebo01  1871.0    1.0    FW1   NA   6.0  11.0  19.0  19.0  19.0   \n",
       " 8      mcbridi01  1871.0    1.0    PH1   NA  18.0   5.0  25.0  25.0  25.0   \n",
       " 9      mcmuljo01  1871.0    1.0    TRO   NA  12.0  15.0  29.0  29.0  28.0   \n",
       " 10     meyerle01  1871.0    1.0    PH1   NA   0.0   0.0   1.0   0.0   0.0   \n",
       " 11     paborch01  1871.0    1.0    CL1   NA   0.0   2.0   7.0   1.0   1.0   \n",
       " 12     pinkhed01  1871.0    1.0    CH1   NA   1.0   0.0   3.0   0.0   0.0   \n",
       " 13     prattal01  1871.0    1.0    CL1   NA  10.0  17.0  28.0  28.0  22.0   \n",
       " 14     spaldal01  1871.0    1.0    BS1   NA  19.0  10.0  31.0  31.0  22.0   \n",
       " 15     stearbi01  1871.0    1.0    WS3   NA   2.0   0.0   2.0   2.0   2.0   \n",
       " 16     woltery01  1871.0    1.0    NY2   NA  16.0  16.0  32.0  32.0  31.0   \n",
       " 17     wrighha01  1871.0    1.0    BS1   NA   1.0   0.0   9.0   0.0   0.0   \n",
       " 18     zettlge01  1871.0    1.0    CH1   NA  18.0   9.0  28.0  28.0  25.0   \n",
       " 19     bentlcy01  1872.0    1.0    MID   NA   2.0  15.0  18.0  17.0  16.0   \n",
       " 20     brainas01  1872.0    1.0    WS3   NA   2.0   7.0   9.0   9.0   9.0   \n",
       " 21     brainas01  1872.0    2.0    MID   NA   0.0   2.0   2.0   2.0   1.0   \n",
       " 22     brittji01  1872.0    1.0    BR2   NA   9.0  28.0  37.0  37.0  37.0   \n",
       " 23     buttefr01  1872.0    1.0    MID   NA   3.0   2.0   6.0   5.0   5.0   \n",
       " 24     cummica01  1872.0    1.0    NY2   NA  33.0  20.0  55.0  55.0  53.0   \n",
       " 25     fishech01  1872.0    1.0    BL1   NA  10.0   1.0  19.0  11.0   9.0   \n",
       " 26     malonma01  1872.0    1.0    BR1   NA   0.0   3.0   3.0   3.0   3.0   \n",
       " 27     martiph01  1872.0    1.0    TRO   NA   1.0   2.0   8.0   3.0   0.0   \n",
       " 28     martiph01  1872.0    2.0    BR1   NA   2.0   7.0  10.0   9.0   9.0   \n",
       " 29     mathebo01  1872.0    1.0    BL1   NA  25.0  18.0  49.0  47.0  39.0   \n",
       " ...          ...     ...    ...    ...  ...   ...   ...   ...   ...   ...   \n",
       " 44933  wilheto01  2016.0    1.0    TEX   AL   2.0   3.0  21.0   0.0   0.0   \n",
       " 44934  wilheto01  2016.0    2.0    SEA   AL   0.0   1.0  29.0   0.0   0.0   \n",
       " 44935  willije02  2016.0    1.0    SLN   NL   0.0   0.0  11.0   0.0   0.0   \n",
       " 44936  willitr01  2016.0    1.0    PIT   NL   1.0   1.0   7.0   1.0   0.0   \n",
       " 44937  wilsoal01  2016.0    1.0    DET   AL   4.0   0.0  62.0   0.0   0.0   \n",
       " 44938  wilsoju10  2016.0    1.0    DET   AL   4.0   5.0  66.0   0.0   0.0   \n",
       " 44939  wilsoty01  2016.0    1.0    BAL   AL   4.0   6.0  24.0  13.0   0.0   \n",
       " 44940  wimmeal01  2016.0    1.0    MIN   AL   1.0   3.0  16.0   0.0   0.0   \n",
       " 44941  winklda01  2016.0    1.0    ATL   NL   0.0   0.0   3.0   0.0   0.0   \n",
       " 44942  wislema01  2016.0    1.0    ATL   NL   7.0  13.0  27.0  26.0   0.0   \n",
       " 44943  withrch01  2016.0    1.0    ATL   NL   3.0   0.0  46.0   0.0   0.0   \n",
       " 44944  wittgni01  2016.0    1.0    MIA   NL   4.0   3.0  48.0   0.0   0.0   \n",
       " 44945   woodal02  2016.0    1.0    LAN   NL   1.0   4.0  14.0  10.0   0.0   \n",
       " 44946   woodbl01  2016.0    1.0    CIN   NL   6.0   5.0  70.0   0.0   0.0   \n",
       " 44947   woodtr01  2016.0    1.0    CHN   NL   4.0   0.0  77.0   0.0   0.0   \n",
       " 44948  worleva01  2016.0    1.0    BAL   AL   2.0   2.0  35.0   4.0   0.0   \n",
       " 44949  wrighda04  2016.0    1.0    CIN   NL   0.0   2.0   4.0   2.0   0.0   \n",
       " 44950  wrighda04  2016.0    2.0    LAA   AL   1.0   3.0   5.0   5.0   0.0   \n",
       " 44951  wrighmi01  2016.0    1.0    BAL   AL   3.0   4.0  18.0  12.0   0.0   \n",
       " 44952  wrighst01  2016.0    1.0    BOS   AL  13.0   6.0  24.0  24.0   4.0   \n",
       " 44953  yateski01  2016.0    1.0    NYA   AL   2.0   1.0  41.0   0.0   0.0   \n",
       " 44954   ynoaga01  2016.0    1.0    NYN   NL   1.0   0.0  10.0   3.0   0.0   \n",
       " 44955   ynoami01  2016.0    1.0    CHA   AL   1.0   0.0  23.0   0.0   0.0   \n",
       " 44956  youngch03  2016.0    1.0    KCA   AL   3.0   9.0  34.0  13.0   0.0   \n",
       " 44957  youngma03  2016.0    1.0    ATL   NL   0.0   0.0   8.0   0.0   0.0   \n",
       " 44958  zastrro01  2016.0    1.0    CHN   NL   1.0   0.0   8.0   1.0   0.0   \n",
       " 44959  zieglbr01  2016.0    1.0    ARI   NL   2.0   3.0  36.0   0.0   0.0   \n",
       " 44960  zieglbr01  2016.0    2.0    BOS   AL   2.0   4.0  33.0   0.0   0.0   \n",
       " 44961  zimmejo02  2016.0    1.0    DET   AL   9.0   7.0  19.0  18.0   0.0   \n",
       " 44962   zychto01  2016.0    1.0    SEA   AL   1.0   0.0  12.0   0.0   0.0   \n",
       " \n",
       "        ...   IBB    WP  HBP   BK    BFP    GF      R   SH   SF  GIDP  \n",
       " 0      ...   NaN   NaN  NaN  0.0    NaN   NaN   42.0  NaN  NaN   NaN  \n",
       " 1      ...   NaN   NaN  NaN  0.0    NaN   NaN  292.0  NaN  NaN   NaN  \n",
       " 2      ...   NaN   NaN  NaN  0.0    NaN   NaN    9.0  NaN  NaN   NaN  \n",
       " 3      ...   NaN   NaN  NaN  0.0    NaN   NaN  257.0  NaN  NaN   NaN  \n",
       " 4      ...   NaN   NaN  NaN  0.0    NaN   NaN   21.0  NaN  NaN   NaN  \n",
       " 5      ...   NaN   NaN  NaN  0.0    NaN   NaN    0.0  NaN  NaN   NaN  \n",
       " 6      ...   NaN   NaN  NaN  0.0    NaN   NaN   30.0  NaN  NaN   NaN  \n",
       " 7      ...   NaN   NaN  NaN  2.0    NaN   NaN  243.0  NaN  NaN   NaN  \n",
       " 8      ...   NaN   NaN  NaN  0.0    NaN   NaN  223.0  NaN  NaN   NaN  \n",
       " 9      ...   NaN   NaN  NaN  0.0    NaN   NaN  362.0  NaN  NaN   NaN  \n",
       " 10     ...   NaN   NaN  NaN  0.0    NaN   NaN    1.0  NaN  NaN   NaN  \n",
       " 11     ...   NaN   NaN  NaN  0.0    NaN   NaN   53.0  NaN  NaN   NaN  \n",
       " 12     ...   NaN   NaN  NaN  0.0    NaN   NaN    8.0  NaN  NaN   NaN  \n",
       " 13     ...   NaN   NaN  NaN  0.0    NaN   NaN  288.0  NaN  NaN   NaN  \n",
       " 14     ...   NaN   NaN  NaN  0.0    NaN   NaN  272.0  NaN  NaN   NaN  \n",
       " 15     ...   NaN   NaN  NaN  0.0    NaN   NaN   11.0  NaN  NaN   NaN  \n",
       " 16     ...   NaN   NaN  NaN  0.0    NaN   NaN  283.0  NaN  NaN   NaN  \n",
       " 17     ...   NaN   NaN  NaN  0.0    NaN   NaN   31.0  NaN  NaN   NaN  \n",
       " 18     ...   NaN   NaN  NaN  0.0    NaN   NaN  233.0  NaN  NaN   NaN  \n",
       " 19     ...   NaN   NaN  NaN  0.0    NaN   NaN  252.0  NaN  NaN   NaN  \n",
       " 20     ...   NaN   NaN  NaN  0.0    NaN   NaN  140.0  NaN  NaN   NaN  \n",
       " 21     ...   NaN   NaN  NaN  0.0    NaN   NaN   17.0  NaN  NaN   NaN  \n",
       " 22     ...   NaN   NaN  NaN  1.0    NaN   NaN  473.0  NaN  NaN   NaN  \n",
       " 23     ...   NaN   NaN  NaN  0.0    NaN   NaN   78.0  NaN  NaN   NaN  \n",
       " 24     ...   NaN   NaN  NaN  0.0    NaN   NaN  347.0  NaN  NaN   NaN  \n",
       " 25     ...   NaN   NaN  NaN  0.0    NaN   NaN   78.0  NaN  NaN   NaN  \n",
       " 26     ...   NaN   NaN  NaN  0.0    NaN   NaN   86.0  NaN  NaN   NaN  \n",
       " 27     ...   NaN   NaN  NaN  0.0    NaN   NaN   59.0  NaN  NaN   NaN  \n",
       " 28     ...   NaN   NaN  NaN  0.0    NaN   NaN  106.0  NaN  NaN   NaN  \n",
       " 29     ...   NaN   NaN  NaN  0.0    NaN   NaN  356.0  NaN  NaN   NaN  \n",
       " ...    ...   ...   ...  ...  ...    ...   ...    ...  ...  ...   ...  \n",
       " 44933  ...   0.0   0.0  2.0  0.0  109.0   3.0   25.0  0.0  1.0   4.0  \n",
       " 44934  ...   0.0   0.0  0.0  0.0  100.0   2.0   10.0  0.0  0.0   4.0  \n",
       " 44935  ...   1.0   0.0  2.0  0.0   81.0   9.0   15.0  0.0  1.0   3.0  \n",
       " 44936  ...   0.0   0.0  0.0  0.0   61.0   1.0   13.0  0.0  0.0   2.0  \n",
       " 44937  ...   5.0   2.0  1.0  0.0  297.0   6.0   26.0  0.0  5.0   8.0  \n",
       " 44938  ...   2.0   4.0  1.0  0.0  251.0  10.0   29.0  1.0  0.0   7.0  \n",
       " 44939  ...   1.0   2.0  4.0  0.0  414.0   5.0   57.0  1.0  3.0   8.0  \n",
       " 44940  ...   1.0   0.0  0.0  0.0   72.0   2.0    8.0  0.0  2.0   3.0  \n",
       " 44941  ...   0.0   0.0  0.0  0.0    8.0   0.0    0.0  0.0  0.0   0.0  \n",
       " 44942  ...   3.0   5.0  4.0  1.0  671.0   1.0   90.0  2.0  3.0  12.0  \n",
       " 44943  ...   1.0   1.0  2.0  0.0  158.0   6.0   16.0  2.0  1.0   2.0  \n",
       " 44944  ...   2.0   1.0  1.0  0.0  213.0   9.0   18.0  3.0  2.0   2.0  \n",
       " 44945  ...   0.0   4.0  3.0  0.0  255.0   0.0   30.0  0.0  2.0   5.0  \n",
       " 44946  ...   3.0   8.0  2.0  0.0  330.0  21.0   38.0  1.0  2.0   8.0  \n",
       " 44947  ...   2.0   0.0  1.0  0.0  252.0  16.0   24.0  1.0  0.0   3.0  \n",
       " 44948  ...   0.0   3.0  3.0  0.0  365.0  13.0   37.0  0.0  3.0  12.0  \n",
       " 44949  ...   0.0   1.0  0.0  0.0   64.0   0.0   16.0  1.0  1.0   2.0  \n",
       " 44950  ...   0.0   1.0  5.0  0.0  115.0   0.0   16.0  1.0  1.0   4.0  \n",
       " 44951  ...   0.0   2.0  9.0  0.0  328.0   5.0   53.0  1.0  5.0  10.0  \n",
       " 44952  ...   1.0  10.0  8.0  0.0  656.0   0.0   74.0  2.0  2.0  16.0  \n",
       " 44953  ...   1.0   1.0  4.0  0.0  184.0  11.0   24.0  1.0  1.0   1.0  \n",
       " 44954  ...   0.0   0.0  1.0  0.0   88.0   2.0   13.0  0.0  2.0   1.0  \n",
       " 44955  ...   2.0   4.0  5.0  0.0  135.0   7.0   11.0  1.0  2.0   1.0  \n",
       " 44956  ...   1.0   3.0  1.0  0.0  406.0   7.0   63.0  0.0  4.0   3.0  \n",
       " 44957  ...   0.0   0.0  1.0  0.0   37.0   1.0    5.0  1.0  1.0   0.0  \n",
       " 44958  ...   0.0   0.0  1.0  0.0   66.0   1.0    3.0  0.0  2.0   1.0  \n",
       " 44959  ...   5.0   0.0  2.0  0.0  165.0  30.0   13.0  1.0  1.0  10.0  \n",
       " 44960  ...   2.0   1.0  1.0  0.0  124.0  12.0    8.0  1.0  0.0   6.0  \n",
       " 44961  ...   0.0   3.0  2.0  0.0  450.0   1.0   63.0  1.0  5.0   8.0  \n",
       " 44962  ...   2.0   0.0  1.0  0.0   60.0   3.0    6.0  0.0  1.0   1.0  \n",
       " \n",
       " [44963 rows x 30 columns]]"
      ]
     },
     "execution_count": 75,
     "metadata": {},
     "output_type": "execute_result"
    }
   ],
   "source": [
    "df3"
   ]
  },
  {
   "cell_type": "code",
   "execution_count": 76,
   "metadata": {},
   "outputs": [
    {
     "ename": "AttributeError",
     "evalue": "'list' object has no attribute 'head'",
     "output_type": "error",
     "traceback": [
      "\u001b[0;31m---------------------------------------------------------------------------\u001b[0m",
      "\u001b[0;31mAttributeError\u001b[0m                            Traceback (most recent call last)",
      "\u001b[0;32m<ipython-input-76-88ce1073d687>\u001b[0m in \u001b[0;36m<module>\u001b[0;34m()\u001b[0m\n\u001b[0;32m----> 1\u001b[0;31m \u001b[0mdf3\u001b[0m\u001b[0;34m.\u001b[0m\u001b[0mhead\u001b[0m\u001b[0;34m(\u001b[0m\u001b[0;34m)\u001b[0m\u001b[0;34m\u001b[0m\u001b[0m\n\u001b[0m",
      "\u001b[0;31mAttributeError\u001b[0m: 'list' object has no attribute 'head'"
     ]
    }
   ],
   "source": [
    "df3"
   ]
  },
  {
   "cell_type": "code",
   "execution_count": null,
   "metadata": {},
   "outputs": [],
   "source": [
    "}"
   ]
  }
 ],
 "metadata": {
  "kernelspec": {
   "display_name": "Python 3",
   "language": "python",
   "name": "python3"
  },
  "language_info": {
   "codemirror_mode": {
    "name": "ipython",
    "version": 3
   },
   "file_extension": ".py",
   "mimetype": "text/x-python",
   "name": "python",
   "nbconvert_exporter": "python",
   "pygments_lexer": "ipython3",
   "version": "3.6.5"
  }
 },
 "nbformat": 4,
 "nbformat_minor": 2
}
