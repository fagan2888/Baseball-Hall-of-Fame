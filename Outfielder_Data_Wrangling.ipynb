{
 "cells": [
  {
   "cell_type": "code",
   "execution_count": 5,
   "metadata": {},
   "outputs": [],
   "source": [
    "import psycopg2\n",
    "import pandas as pd\n",
    "import numpy as np\n",
    "from matplotlib import pyplot as plt\n",
    "%matplotlib inline\n",
    "import seaborn as sns\n",
    "import datetime as dt\n",
    "\n",
    "import seaborn as sns\n",
    "import datetime"
   ]
  },
  {
   "cell_type": "markdown",
   "metadata": {},
   "source": [
    "## Outfielder DataFrames"
   ]
  },
  {
   "cell_type": "code",
   "execution_count": 6,
   "metadata": {},
   "outputs": [],
   "source": [
    "#DF1=  clutch_outf_30.csv\n",
    "#DF2 = clutch_outf_100.csv\n",
    "#DF3 = allstr_clutch_outf.csv"
   ]
  },
  {
   "cell_type": "code",
   "execution_count": 7,
   "metadata": {},
   "outputs": [],
   "source": [
    "import psycopg2 as p2\n",
    "conn = p2.connect(database = 'player_stats', user ='baseball_master', password = 'georgetowndata', \n",
    "                  host = 'georgetown-baseball.cnfqonxqdbry.us-east-1.rds.amazonaws.com', \n",
    "                  port = '5432')\n"
   ]
  },
  {
   "cell_type": "markdown",
   "metadata": {},
   "source": [
    "### Non- All Star Outfielders who have played at least 30 games at their position"
   ]
  },
  {
   "cell_type": "code",
   "execution_count": null,
   "metadata": {},
   "outputs": [],
   "source": [
    "query=\"\"\"\n",
    "select \"playerID\", \"POS\", \"yearID\", \"G\"\n",
    "from fielding \n",
    "where \"yearID\" >= '1947'\n",
    "and \"POS\" = 'OF'\n",
    "and \"G\" > 30 and \"G\" < 100\n",
    "and \"playerID\" not in \n",
    "   (Select \"playerID\"  ---count(\"playerID\")\n",
    "        from allstar_full\n",
    "        group by \"playerID\"\n",
    "        having count(\"playerID\") > 5)\n",
    "\"\"\"\n",
    "\n",
    "Reg_Outfielder_30 = pd.read_sql_query(query, conn)"
   ]
  },
  {
   "cell_type": "code",
   "execution_count": null,
   "metadata": {},
   "outputs": [],
   "source": [
    "Reg_Outfielder_30.head()"
   ]
  },
  {
   "cell_type": "markdown",
   "metadata": {},
   "source": [
    "### Clutch - Impact on winning percentage "
   ]
  },
  {
   "cell_type": "code",
   "execution_count": 8,
   "metadata": {},
   "outputs": [],
   "source": [
    "query =\"\"\"\n",
    "\n",
    "select \"year\" as \"yearID\", \"batter_id\" as \"playerID\", \"event_count\", \"average_win_change\", \"center_weighted_win_change\"\n",
    "as \"clutch_win_change\"\n",
    "from clutch_bat\n",
    "order by \"yearID\"\n",
    "\n",
    "\"\"\"\n",
    "\n",
    "Clutch = pd.read_sql_query(query, conn)"
   ]
  },
  {
   "cell_type": "code",
   "execution_count": 9,
   "metadata": {},
   "outputs": [
    {
     "data": {
      "text/html": [
       "<div>\n",
       "<style scoped>\n",
       "    .dataframe tbody tr th:only-of-type {\n",
       "        vertical-align: middle;\n",
       "    }\n",
       "\n",
       "    .dataframe tbody tr th {\n",
       "        vertical-align: top;\n",
       "    }\n",
       "\n",
       "    .dataframe thead th {\n",
       "        text-align: right;\n",
       "    }\n",
       "</style>\n",
       "<table border=\"1\" class=\"dataframe\">\n",
       "  <thead>\n",
       "    <tr style=\"text-align: right;\">\n",
       "      <th></th>\n",
       "      <th>yearID</th>\n",
       "      <th>playerID</th>\n",
       "      <th>event_count</th>\n",
       "      <th>average_win_change</th>\n",
       "      <th>clutch_win_change</th>\n",
       "    </tr>\n",
       "  </thead>\n",
       "  <tbody>\n",
       "    <tr>\n",
       "      <th>0</th>\n",
       "      <td>1950.0</td>\n",
       "      <td>aberal01</td>\n",
       "      <td>3.0</td>\n",
       "      <td>0.006172</td>\n",
       "      <td>-0.003889</td>\n",
       "    </tr>\n",
       "    <tr>\n",
       "      <th>1</th>\n",
       "      <td>1950.0</td>\n",
       "      <td>abramca01</td>\n",
       "      <td>55.0</td>\n",
       "      <td>0.010747</td>\n",
       "      <td>-0.006012</td>\n",
       "    </tr>\n",
       "    <tr>\n",
       "      <th>2</th>\n",
       "      <td>1950.0</td>\n",
       "      <td>addisbo01</td>\n",
       "      <td>24.0</td>\n",
       "      <td>0.014065</td>\n",
       "      <td>-0.013327</td>\n",
       "    </tr>\n",
       "    <tr>\n",
       "      <th>3</th>\n",
       "      <td>1950.0</td>\n",
       "      <td>bankhda01</td>\n",
       "      <td>41.0</td>\n",
       "      <td>0.005563</td>\n",
       "      <td>-0.005630</td>\n",
       "    </tr>\n",
       "    <tr>\n",
       "      <th>4</th>\n",
       "      <td>1950.0</td>\n",
       "      <td>bantaja01</td>\n",
       "      <td>14.0</td>\n",
       "      <td>0.010745</td>\n",
       "      <td>-0.015449</td>\n",
       "    </tr>\n",
       "  </tbody>\n",
       "</table>\n",
       "</div>"
      ],
      "text/plain": [
       "   yearID   playerID  event_count  average_win_change  clutch_win_change\n",
       "0  1950.0   aberal01          3.0            0.006172          -0.003889\n",
       "1  1950.0  abramca01         55.0            0.010747          -0.006012\n",
       "2  1950.0  addisbo01         24.0            0.014065          -0.013327\n",
       "3  1950.0  bankhda01         41.0            0.005563          -0.005630\n",
       "4  1950.0  bantaja01         14.0            0.010745          -0.015449"
      ]
     },
     "execution_count": 9,
     "metadata": {},
     "output_type": "execute_result"
    },
    {
     "data": {
      "text/html": [
       "<div>\n",
       "<style scoped>\n",
       "    .dataframe tbody tr th:only-of-type {\n",
       "        vertical-align: middle;\n",
       "    }\n",
       "\n",
       "    .dataframe tbody tr th {\n",
       "        vertical-align: top;\n",
       "    }\n",
       "\n",
       "    .dataframe thead th {\n",
       "        text-align: right;\n",
       "    }\n",
       "</style>\n",
       "<table border=\"1\" class=\"dataframe\">\n",
       "  <thead>\n",
       "    <tr style=\"text-align: right;\">\n",
       "      <th></th>\n",
       "      <th>yearID</th>\n",
       "      <th>playerID</th>\n",
       "      <th>event_count</th>\n",
       "      <th>average_win_change</th>\n",
       "      <th>clutch_win_change</th>\n",
       "    </tr>\n",
       "  </thead>\n",
       "  <tbody>\n",
       "    <tr>\n",
       "      <th>0</th>\n",
       "      <td>1950.0</td>\n",
       "      <td>aberal01</td>\n",
       "      <td>3.0</td>\n",
       "      <td>0.006172</td>\n",
       "      <td>-0.003889</td>\n",
       "    </tr>\n",
       "    <tr>\n",
       "      <th>1</th>\n",
       "      <td>1950.0</td>\n",
       "      <td>abramca01</td>\n",
       "      <td>55.0</td>\n",
       "      <td>0.010747</td>\n",
       "      <td>-0.006012</td>\n",
       "    </tr>\n",
       "    <tr>\n",
       "      <th>2</th>\n",
       "      <td>1950.0</td>\n",
       "      <td>addisbo01</td>\n",
       "      <td>24.0</td>\n",
       "      <td>0.014065</td>\n",
       "      <td>-0.013327</td>\n",
       "    </tr>\n",
       "    <tr>\n",
       "      <th>3</th>\n",
       "      <td>1950.0</td>\n",
       "      <td>bankhda01</td>\n",
       "      <td>41.0</td>\n",
       "      <td>0.005563</td>\n",
       "      <td>-0.005630</td>\n",
       "    </tr>\n",
       "    <tr>\n",
       "      <th>4</th>\n",
       "      <td>1950.0</td>\n",
       "      <td>bantaja01</td>\n",
       "      <td>14.0</td>\n",
       "      <td>0.010745</td>\n",
       "      <td>-0.015449</td>\n",
       "    </tr>\n",
       "  </tbody>\n",
       "</table>\n",
       "</div>"
      ],
      "text/plain": [
       "   yearID   playerID  event_count  average_win_change  clutch_win_change\n",
       "0  1950.0   aberal01          3.0            0.006172          -0.003889\n",
       "1  1950.0  abramca01         55.0            0.010747          -0.006012\n",
       "2  1950.0  addisbo01         24.0            0.014065          -0.013327\n",
       "3  1950.0  bankhda01         41.0            0.005563          -0.005630\n",
       "4  1950.0  bantaja01         14.0            0.010745          -0.015449"
      ]
     },
     "execution_count": 9,
     "metadata": {},
     "output_type": "execute_result"
    }
   ],
   "source": [
    "Clutch.head()"
   ]
  },
  {
   "cell_type": "markdown",
   "metadata": {},
   "source": [
    "### Merge Impact on Winning Percentage Stat with Player"
   ]
  },
  {
   "cell_type": "code",
   "execution_count": null,
   "metadata": {
    "scrolled": true
   },
   "outputs": [],
   "source": [
    "Clutch_Outfielder_30 =pd.merge(Clutch, Reg_Outfielder_30, on = [\"playerID\", \"yearID\"])"
   ]
  },
  {
   "cell_type": "code",
   "execution_count": null,
   "metadata": {},
   "outputs": [],
   "source": [
    "Clutch_Outfielder_30.head()"
   ]
  },
  {
   "cell_type": "markdown",
   "metadata": {},
   "source": [
    "### Offensive Stats"
   ]
  },
  {
   "cell_type": "code",
   "execution_count": null,
   "metadata": {},
   "outputs": [],
   "source": [
    "query=\"\"\"\n",
    "select a.\"playerID\", m.\"nameFirst\", m.\"nameLast\", m.\"birthYear\",a.\"yearID\", a.\"G\", a.\"AB\",a.\"H\",a.\"2B\", a.\"3B\",\n",
    "a.\"SO\", a.\"HBP\", a.\"BB\", a.\"SF\", a.\"R\", a.\"HR\", a.\"RBI\"\n",
    "from batting a\n",
    "join master m\n",
    "on a.\"playerID\" = m.\"playerID\"\n",
    "where a.\"yearID\" >= '1947'\n",
    "\"\"\"\n",
    "\n",
    "Batting_Stats = pd.read_sql_query(query,conn)"
   ]
  },
  {
   "cell_type": "code",
   "execution_count": null,
   "metadata": {},
   "outputs": [],
   "source": [
    "Batting_Stats.head()"
   ]
  },
  {
   "cell_type": "code",
   "execution_count": null,
   "metadata": {},
   "outputs": [],
   "source": [
    "Batting_Stats['AVG'] = Batting_Stats['H'] / Batting_Stats['AB']"
   ]
  },
  {
   "cell_type": "code",
   "execution_count": null,
   "metadata": {},
   "outputs": [],
   "source": [
    "Batting_Stats[\"1B\"] = Batting_Stats[\"H\"] - Batting_Stats[\"2B\"]- Batting_Stats[\"3B\"]"
   ]
  },
  {
   "cell_type": "code",
   "execution_count": null,
   "metadata": {},
   "outputs": [],
   "source": [
    "Batting_Stats.HBP.fillna(0, inplace = True)"
   ]
  },
  {
   "cell_type": "code",
   "execution_count": null,
   "metadata": {},
   "outputs": [],
   "source": [
    "Batting_Stats.SF.fillna(0, inplace = True)"
   ]
  },
  {
   "cell_type": "code",
   "execution_count": null,
   "metadata": {
    "scrolled": true
   },
   "outputs": [],
   "source": [
    "Batting_Stats[\"TB\"] = Batting_Stats[\"1B\"] + Batting_Stats[\"2B\"]*2 \n",
    "+ Batting_Stats[\"3B\"]*3 + Batting_Stats[\"HR\"] * 4"
   ]
  },
  {
   "cell_type": "code",
   "execution_count": null,
   "metadata": {},
   "outputs": [],
   "source": [
    "Batting_Stats[\"SLG\"] = Batting_Stats[\"TB\"] / Batting_Stats[\"AB\"]"
   ]
  },
  {
   "cell_type": "code",
   "execution_count": null,
   "metadata": {},
   "outputs": [],
   "source": [
    "Batting_Stats[\"OBP\"] = (Batting_Stats[\"H\"] + Batting_Stats[\"BB\"] \n",
    "+ Batting_Stats[\"HBP\"]) / (Batting_Stats [\"AB\"] + Batting_Stats [\"BB\"]\n",
    "+ Batting_Stats[\"HBP\"] + Batting_Stats[\"SF\"])"
   ]
  },
  {
   "cell_type": "code",
   "execution_count": null,
   "metadata": {},
   "outputs": [],
   "source": [
    "Batting_Stats[\"OPS\"] = Batting_Stats[\"OBP\"] + Batting_Stats[\"SLG\"]"
   ]
  },
  {
   "cell_type": "markdown",
   "metadata": {},
   "source": [
    "### Runs Scored = Measures how many runs a player help created offensive (directly or indirectly) for his team during the season "
   ]
  },
  {
   "cell_type": "code",
   "execution_count": null,
   "metadata": {},
   "outputs": [],
   "source": [
    "Batting_Stats[\"RC\"] = Batting_Stats[\"TB\"] * Batting_Stats[\"OBP\"]"
   ]
  },
  {
   "cell_type": "code",
   "execution_count": null,
   "metadata": {
    "scrolled": true
   },
   "outputs": [],
   "source": [
    "Batting_Stats.head()"
   ]
  },
  {
   "cell_type": "markdown",
   "metadata": {},
   "source": [
    "### Merge with other offensive stats"
   ]
  },
  {
   "cell_type": "code",
   "execution_count": null,
   "metadata": {
    "scrolled": true
   },
   "outputs": [],
   "source": [
    "pd.merge(Clutch_Outfielder_30, Batting_Stats, on = [\"playerID\", \"yearID\"])"
   ]
  },
  {
   "cell_type": "code",
   "execution_count": null,
   "metadata": {},
   "outputs": [],
   "source": [
    "clutch_outf_30 = pd.merge(Clutch_Outfielder_30, Batting_Stats, on = [\"playerID\", \"yearID\"])"
   ]
  },
  {
   "cell_type": "code",
   "execution_count": null,
   "metadata": {},
   "outputs": [],
   "source": [
    "clutch_outf_30.head(3)"
   ]
  },
  {
   "cell_type": "code",
   "execution_count": null,
   "metadata": {
    "scrolled": true
   },
   "outputs": [],
   "source": [
    "clutch_outf_30.dropna(how = 'any', inplace = True)"
   ]
  },
  {
   "cell_type": "code",
   "execution_count": null,
   "metadata": {},
   "outputs": [],
   "source": [
    "clutch_outf_30.fillna(0).head(5)"
   ]
  },
  {
   "cell_type": "code",
   "execution_count": null,
   "metadata": {},
   "outputs": [],
   "source": [
    "clutch_outf_30.drop('G_y', axis = 1, inplace = True)"
   ]
  },
  {
   "cell_type": "code",
   "execution_count": null,
   "metadata": {},
   "outputs": [],
   "source": [
    "clutch_outf_30.head()"
   ]
  },
  {
   "cell_type": "code",
   "execution_count": null,
   "metadata": {},
   "outputs": [],
   "source": [
    "clutch_outf_30.to_csv('clutch_outf_30.csv')"
   ]
  },
  {
   "cell_type": "code",
   "execution_count": null,
   "metadata": {},
   "outputs": [],
   "source": [
    "clutch_outf_30 = pd.read_csv('clutch_inf_30.csv', index_col= 0 )"
   ]
  },
  {
   "cell_type": "code",
   "execution_count": null,
   "metadata": {
    "scrolled": true
   },
   "outputs": [],
   "source": [
    "clutch_outf_30.head() "
   ]
  },
  {
   "cell_type": "markdown",
   "metadata": {},
   "source": [
    "### Visualize data relationships using scatterplots"
   ]
  },
  {
   "cell_type": "code",
   "execution_count": null,
   "metadata": {},
   "outputs": [],
   "source": [
    "##seaborn as sns\n",
    "sns.pairplot(clutch_outf_30, x_vars = ['BB','SLG','HR','AVG'], y_vars = 'RC', height = 5, aspect = 0.7, kind = 'reg')"
   ]
  },
  {
   "cell_type": "code",
   "execution_count": null,
   "metadata": {},
   "outputs": [],
   "source": [
    "sns.pairplot(clutch_outf_30, x_vars = ['TB','OPS','OBP','H'], y_vars = 'RC', height = 5, aspect = 0.7, kind = 'reg')"
   ]
  },
  {
   "cell_type": "markdown",
   "metadata": {},
   "source": [
    "### Non- All Star Outfielders who have played at least 100 games at their position"
   ]
  },
  {
   "cell_type": "code",
   "execution_count": null,
   "metadata": {},
   "outputs": [],
   "source": [
    "query=\"\"\"\n",
    "select \"playerID\", \"POS\", \"yearID\", \"G\"\n",
    "from fielding \n",
    "where \"yearID\" >= '1947'\n",
    "and \"POS\" = 'OF'\n",
    "and \"G\" >= 100\n",
    "and \"playerID\" not in \n",
    "   (Select \"playerID\"  ---count(\"playerID\")\n",
    "        from allstar_full\n",
    "        group by \"playerID\"\n",
    "        having count(\"playerID\") > 5)\n",
    "\"\"\"\n",
    "\n",
    "Reg_Outfielder_100 = pd.read_sql_query(query, conn)"
   ]
  },
  {
   "cell_type": "markdown",
   "metadata": {},
   "source": [
    "### Merge Impact on Winning Percentage Stat with Player"
   ]
  },
  {
   "cell_type": "code",
   "execution_count": null,
   "metadata": {
    "scrolled": true
   },
   "outputs": [],
   "source": [
    "Clutch_Outfielder_100 =pd.merge(Clutch, Reg_Outfielder_100, on = [\"playerID\", \"yearID\"])"
   ]
  },
  {
   "cell_type": "code",
   "execution_count": null,
   "metadata": {},
   "outputs": [],
   "source": [
    "Clutch_Outfielder_100.head()"
   ]
  },
  {
   "cell_type": "markdown",
   "metadata": {},
   "source": [
    "### Merge with other offensive stats"
   ]
  },
  {
   "cell_type": "code",
   "execution_count": null,
   "metadata": {
    "scrolled": true
   },
   "outputs": [],
   "source": [
    "pd.merge(Clutch_Outfielder_100, Batting_Stats, on = [\"playerID\", \"yearID\"])"
   ]
  },
  {
   "cell_type": "code",
   "execution_count": null,
   "metadata": {},
   "outputs": [],
   "source": [
    "clutch_outf_100 = pd.merge(Clutch_Outfielder_100, Batting_Stats, on = [\"playerID\", \"yearID\"])"
   ]
  },
  {
   "cell_type": "code",
   "execution_count": null,
   "metadata": {
    "scrolled": true
   },
   "outputs": [],
   "source": [
    "clutch_outf_100.head()"
   ]
  },
  {
   "cell_type": "code",
   "execution_count": null,
   "metadata": {},
   "outputs": [],
   "source": [
    "clutch_outf_100 = pd.merge(Clutch_Outfielder_100, Batting_Stats, on = [\"playerID\", \"yearID\"])"
   ]
  },
  {
   "cell_type": "code",
   "execution_count": null,
   "metadata": {},
   "outputs": [],
   "source": [
    "clutch_outf_100.dropna(how = 'any', inplace = True)"
   ]
  },
  {
   "cell_type": "code",
   "execution_count": null,
   "metadata": {},
   "outputs": [],
   "source": [
    "clutch_outf_100.fillna(0).head(5)"
   ]
  },
  {
   "cell_type": "code",
   "execution_count": null,
   "metadata": {},
   "outputs": [],
   "source": [
    "clutch_outf_100.drop('G_y', axis = 1, inplace = True)"
   ]
  },
  {
   "cell_type": "code",
   "execution_count": null,
   "metadata": {},
   "outputs": [],
   "source": [
    "clutch_outf_100.head()"
   ]
  },
  {
   "cell_type": "code",
   "execution_count": null,
   "metadata": {},
   "outputs": [],
   "source": [
    "clutch_outf_100.to_csv('clutch_outf_100.csv')"
   ]
  },
  {
   "cell_type": "code",
   "execution_count": null,
   "metadata": {},
   "outputs": [],
   "source": [
    "clutch_outf_100 = pd.read_csv('clutch_outf_100.csv', index_col= 0 )"
   ]
  },
  {
   "cell_type": "code",
   "execution_count": null,
   "metadata": {},
   "outputs": [],
   "source": [
    "clutch_outf_100.head() "
   ]
  },
  {
   "cell_type": "markdown",
   "metadata": {},
   "source": [
    "### Visualize data relationships using scatterplots"
   ]
  },
  {
   "cell_type": "code",
   "execution_count": null,
   "metadata": {},
   "outputs": [],
   "source": [
    "##seaborn as sns\n",
    "sns.pairplot(clutch_outf_100, x_vars = ['BB','SLG','HR','AVG'], y_vars = 'RC', height = 5, aspect = 0.7, kind = 'reg')"
   ]
  },
  {
   "cell_type": "code",
   "execution_count": null,
   "metadata": {},
   "outputs": [],
   "source": [
    "sns.pairplot(clutch_outf_100, x_vars = ['TB','OPS','OBP','H'], y_vars = 'RC', height = 5, aspect = 0.7, kind = 'reg')"
   ]
  },
  {
   "cell_type": "markdown",
   "metadata": {},
   "source": [
    "### All Star Outfielders who have played at least 100 games at their position"
   ]
  },
  {
   "cell_type": "code",
   "execution_count": null,
   "metadata": {},
   "outputs": [],
   "source": [
    "query=\"\"\"\n",
    "select \"playerID\", \"POS\", \"yearID\",\"G\"\n",
    "from fielding \n",
    "where \"yearID\" >= '1947'\n",
    "and \"POS\" = 'OF'\n",
    "and \"G\" > 100\n",
    "and \"playerID\" in  \n",
    "        (Select \"playerID\"  ---count(\"playerID\")\n",
    "        from allstar_full\n",
    "        group by \"playerID\"\n",
    "        having count(\"playerID\") > 5)\n",
    "\"\"\"\n",
    "\n",
    "All_Star_Outfielder_100 = pd.read_sql_query(query, conn)"
   ]
  },
  {
   "cell_type": "markdown",
   "metadata": {},
   "source": [
    "### Merge Impact on Winning Percentage Stat with Player"
   ]
  },
  {
   "cell_type": "code",
   "execution_count": null,
   "metadata": {},
   "outputs": [],
   "source": [
    "Clutch_Allstr_Outfielder =pd.merge(Clutch, All_Star_Outfielder_100, on = [\"playerID\", \"yearID\"])"
   ]
  },
  {
   "cell_type": "code",
   "execution_count": null,
   "metadata": {},
   "outputs": [],
   "source": [
    "Clutch_Allstr_Outfielder.head()"
   ]
  },
  {
   "cell_type": "markdown",
   "metadata": {},
   "source": [
    "### Merge with other offensive stats"
   ]
  },
  {
   "cell_type": "code",
   "execution_count": null,
   "metadata": {},
   "outputs": [],
   "source": [
    "allstr_clutch_outf = pd.merge(Clutch_Allstr_Outfielder, Batting_Stats, on = [\"playerID\", \"yearID\"])"
   ]
  },
  {
   "cell_type": "code",
   "execution_count": null,
   "metadata": {},
   "outputs": [],
   "source": [
    "allstr_clutch_outf.head()"
   ]
  },
  {
   "cell_type": "code",
   "execution_count": null,
   "metadata": {},
   "outputs": [],
   "source": [
    "allstr_clutch_outf.dropna(how = 'any', inplace = True)"
   ]
  },
  {
   "cell_type": "code",
   "execution_count": null,
   "metadata": {},
   "outputs": [],
   "source": [
    "allstr_clutch_outf.fillna(0).head(5)"
   ]
  },
  {
   "cell_type": "code",
   "execution_count": null,
   "metadata": {},
   "outputs": [],
   "source": [
    "allstr_clutch_outf.drop('G_y', axis = 1, inplace = True)"
   ]
  },
  {
   "cell_type": "code",
   "execution_count": null,
   "metadata": {},
   "outputs": [],
   "source": [
    "allstr_clutch_outf.head()"
   ]
  },
  {
   "cell_type": "code",
   "execution_count": null,
   "metadata": {},
   "outputs": [],
   "source": [
    "allstr_clutch_outf.to_csv('allstr_clutch_outf.csv')"
   ]
  },
  {
   "cell_type": "code",
   "execution_count": null,
   "metadata": {},
   "outputs": [],
   "source": [
    "allstr_clutch_outf = pd.read_csv('allstr_clutch_outf.csv', index_col= 0 )"
   ]
  },
  {
   "cell_type": "code",
   "execution_count": null,
   "metadata": {},
   "outputs": [],
   "source": [
    "allstr_clutch_outf.head() "
   ]
  },
  {
   "cell_type": "markdown",
   "metadata": {},
   "source": [
    "### Visualize data relationships using scatterplots"
   ]
  },
  {
   "cell_type": "code",
   "execution_count": null,
   "metadata": {},
   "outputs": [],
   "source": [
    "##seaborn as sns\n",
    "sns.pairplot(allstr_clutch_outf, x_vars = ['BB','SLG','HR','AVG'], y_vars = 'RC', height = 5, aspect = 0.7, kind = 'reg')"
   ]
  },
  {
   "cell_type": "code",
   "execution_count": null,
   "metadata": {
    "scrolled": true
   },
   "outputs": [],
   "source": [
    "sns.pairplot(allstr_clutch_outf, x_vars = ['TB','OPS','OBP','H'], y_vars = 'RC', height = 5, aspect = 0.7, kind = 'reg')"
   ]
  },
  {
   "cell_type": "code",
   "execution_count": null,
   "metadata": {},
   "outputs": [],
   "source": []
  }
 ],
 "metadata": {
  "kernelspec": {
   "display_name": "Python 3",
   "language": "python",
   "name": "python3"
  },
  "language_info": {
   "codemirror_mode": {
    "name": "ipython",
    "version": 3
   },
   "file_extension": ".py",
   "mimetype": "text/x-python",
   "name": "python",
   "nbconvert_exporter": "python",
   "pygments_lexer": "ipython3",
   "version": "3.6.6"
  }
 },
 "nbformat": 4,
 "nbformat_minor": 2
}
