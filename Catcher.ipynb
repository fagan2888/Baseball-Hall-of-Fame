{
 "cells": [
  {
   "cell_type": "code",
   "execution_count": 1,
   "metadata": {},
   "outputs": [],
   "source": [
    "import psycopg2\n",
    "import pandas as pd\n",
    "import numpy as np\n",
    "from matplotlib import pyplot as plt\n",
    "%matplotlib inline\n",
    "import seaborn as sns\n",
    "import datetime as dt\n",
    "\n",
    "import seaborn as sns\n",
    "import datetime\n",
    "\n",
    "##DataFrames To be used for analysis of infielders\n",
    "#Reguler_Catcher_Stats_30.csv   *played atleast 30 games\n",
    "#Reguler_Catcher_Stats_100.csv  *played atleast 100 games\n",
    "#All_Star_Catcher_Stats_100.csv  *alstars who played atleast 100 gms\n",
    "\n"
   ]
  },
  {
   "cell_type": "code",
   "execution_count": 33,
   "metadata": {},
   "outputs": [],
   "source": [
    "import psycopg2 as p2\n",
    "conn = p2.connect(database = 'player_stats', user ='baseball_master', password = 'georgetowndata', \n",
    "                  host = 'georgetown-baseball.cnfqonxqdbry.us-east-1.rds.amazonaws.com', \n",
    "                  port = '5432')"
   ]
  },
  {
   "cell_type": "markdown",
   "metadata": {},
   "source": [
    "### Non- All Star Catchers who have played at least 30 games at their position"
   ]
  },
  {
   "cell_type": "code",
   "execution_count": 3,
   "metadata": {},
   "outputs": [
    {
     "ename": "NameError",
     "evalue": "name 'conn' is not defined",
     "output_type": "error",
     "traceback": [
      "\u001b[0;31m---------------------------------------------------------------------------\u001b[0m",
      "\u001b[0;31mNameError\u001b[0m                                 Traceback (most recent call last)",
      "\u001b[0;32m<ipython-input-3-51fcd843a3d8>\u001b[0m in \u001b[0;36m<module>\u001b[0;34m()\u001b[0m\n\u001b[1;32m     12\u001b[0m \"\"\"\n\u001b[1;32m     13\u001b[0m \u001b[0;34m\u001b[0m\u001b[0m\n\u001b[0;32m---> 14\u001b[0;31m \u001b[0mReguler_Catcher_30\u001b[0m \u001b[0;34m=\u001b[0m \u001b[0mpd\u001b[0m\u001b[0;34m.\u001b[0m\u001b[0mread_sql_query\u001b[0m\u001b[0;34m(\u001b[0m\u001b[0mquery\u001b[0m\u001b[0;34m,\u001b[0m \u001b[0mconn\u001b[0m\u001b[0;34m)\u001b[0m\u001b[0;34m\u001b[0m\u001b[0m\n\u001b[0m",
      "\u001b[0;31mNameError\u001b[0m: name 'conn' is not defined"
     ]
    }
   ],
   "source": [
    "query=\"\"\"\n",
    "select \"playerID\", \"POS\", \"yearID\", \"GS\", \"G\"\n",
    "from fielding \n",
    "where \"yearID\" >= '1947'\n",
    "and \"POS\" = 'C'\n",
    "and \"G\" > 30 and \"G\" < 100\n",
    "and \"playerID\" not in \n",
    "   (Select \"playerID\"  ---count(\"playerID\")\n",
    "        from allstar_full\n",
    "        group by \"playerID\"\n",
    "        having count(\"playerID\") > 5)\n",
    "\"\"\"\n",
    "\n",
    "Reguler_Catcher_30 = pd.read_sql_query(query, conn)"
   ]
  },
  {
   "cell_type": "code",
   "execution_count": null,
   "metadata": {},
   "outputs": [],
   "source": [
    "Reguler_Catcher_30.head(3)"
   ]
  },
  {
   "cell_type": "markdown",
   "metadata": {},
   "source": [
    "### Batting Stats for Non All Stars Catchers who played atleast 30 games"
   ]
  },
  {
   "cell_type": "code",
   "execution_count": null,
   "metadata": {},
   "outputs": [],
   "source": [
    "query=\"\"\"\n",
    "select a.\"playerID\", m.\"nameFirst\", m.\"nameLast\", m.\"birthYear\", m.\"deathYear\", a.\"yearID\", a.\"G\", a.\"teamID\", a.\"AB\",a.\"H\",a.\"2B\", a.\"3B\",\n",
    "a.\"HR\", a.\"SO\", a.\"HBP\", a.\"BB\", a.\"SF\"\n",
    "from batting a\n",
    "join master m\n",
    "on a.\"playerID\" = m.\"playerID\"\n",
    "where a.\"yearID\" >= '1947'\n",
    "\"\"\"\n",
    "\n",
    "Batting_Stats = pd.read_sql_query(query,conn)"
   ]
  },
  {
   "cell_type": "code",
   "execution_count": null,
   "metadata": {},
   "outputs": [],
   "source": [
    "Batting_Stats['AVG'] = Batting_Stats['H'] / Batting_Stats['AB']"
   ]
  },
  {
   "cell_type": "code",
   "execution_count": null,
   "metadata": {
    "scrolled": true
   },
   "outputs": [],
   "source": [
    "Batting_Stats[\"1B\"] = Batting_Stats[\"H\"] - Batting_Stats[\"2B\"]- Batting_Stats[\"3B\"]\n",
    "- Batting_Stats[\"HR\"]"
   ]
  },
  {
   "cell_type": "code",
   "execution_count": null,
   "metadata": {},
   "outputs": [],
   "source": [
    "Batting_Stats.HBP.fillna(0, inplace = True)  #replace NaN with zero"
   ]
  },
  {
   "cell_type": "code",
   "execution_count": null,
   "metadata": {},
   "outputs": [],
   "source": [
    "Batting_Stats.SF.fillna(0, inplace = True)  #replace NaN with zero"
   ]
  },
  {
   "cell_type": "code",
   "execution_count": null,
   "metadata": {
    "scrolled": true
   },
   "outputs": [],
   "source": [
    "Batting_Stats[\"TB\"] = Batting_Stats[\"1B\"] + Batting_Stats[\"2B\"]*2 \n",
    "+ Batting_Stats[\"3B\"]*3 + Batting_Stats[\"HR\"] * 4"
   ]
  },
  {
   "cell_type": "code",
   "execution_count": null,
   "metadata": {},
   "outputs": [],
   "source": [
    "Batting_Stats[\"SLG\"] = Batting_Stats[\"TB\"] / Batting_Stats[\"AB\"]"
   ]
  },
  {
   "cell_type": "code",
   "execution_count": null,
   "metadata": {},
   "outputs": [],
   "source": [
    "Batting_Stats[\"OBP\"] = (Batting_Stats[\"H\"] + Batting_Stats[\"BB\"] \n",
    "+ Batting_Stats[\"HBP\"]) / (Batting_Stats [\"AB\"] + Batting_Stats [\"BB\"]\n",
    "+ Batting_Stats[\"HBP\"] + Batting_Stats[\"SF\"])"
   ]
  },
  {
   "cell_type": "code",
   "execution_count": null,
   "metadata": {},
   "outputs": [],
   "source": [
    "Batting_Stats.head(3)"
   ]
  },
  {
   "cell_type": "code",
   "execution_count": null,
   "metadata": {},
   "outputs": [],
   "source": [
    "Batting_Stats[\"OPS\"] = Batting_Stats[\"OBP\"] + Batting_Stats[\"SLG\"]"
   ]
  },
  {
   "cell_type": "markdown",
   "metadata": {},
   "source": [
    "### Merge Catcher Dataframe with Batting Avg Dataframe"
   ]
  },
  {
   "cell_type": "code",
   "execution_count": null,
   "metadata": {},
   "outputs": [],
   "source": [
    "Reguler_Catcher_Stats_30= pd.merge(Reguler_Catcher_30, Batting_Stats, on = [\"playerID\", \"yearID\"])"
   ]
  },
  {
   "cell_type": "code",
   "execution_count": null,
   "metadata": {},
   "outputs": [],
   "source": [
    "Reguler_Catcher_Stats_30.head(3)"
   ]
  },
  {
   "cell_type": "code",
   "execution_count": null,
   "metadata": {},
   "outputs": [],
   "source": [
    "Reguler_Catcher_Stats_30.to_csv('Reguler_Catcher_Stats_30.csv')"
   ]
  },
  {
   "cell_type": "markdown",
   "metadata": {},
   "source": [
    "### Non- All Star Catcher who have played at least 100 games at their position and Batting Stats"
   ]
  },
  {
   "cell_type": "code",
   "execution_count": null,
   "metadata": {},
   "outputs": [],
   "source": [
    "query=\"\"\"\n",
    "\n",
    "select \"playerID\", \"POS\", \"yearID\", \"GS\",\"G\"\n",
    "from fielding \n",
    "where \"G\" > 100\n",
    "and \"yearID\" >= '1947'\n",
    "and \"POS\" = 'C'\n",
    "and \"playerID\" not in \n",
    "\t(Select \"playerID\"  ---count(\"playerID\")\n",
    "from allstar_full\n",
    "group by \"playerID\"\n",
    "having count(\"playerID\") > 5)\n",
    "\"\"\"\n",
    "\n",
    "Reguler_Catcher_100 = pd.read_sql_query(query, conn)"
   ]
  },
  {
   "cell_type": "code",
   "execution_count": null,
   "metadata": {},
   "outputs": [],
   "source": [
    "Reguler_Catcher_Stats_100 = pd.merge(Reguler_Catcher_100, Batting_Stats, on = [\"playerID\", \"yearID\"])"
   ]
  },
  {
   "cell_type": "code",
   "execution_count": null,
   "metadata": {},
   "outputs": [],
   "source": [
    "Reguler_Catcher_Stats_100.head(3)"
   ]
  },
  {
   "cell_type": "code",
   "execution_count": null,
   "metadata": {},
   "outputs": [],
   "source": [
    "Reguler_Catcher_Stats_100.to_csv('Reguler_Catcher_Stats_100.csv')"
   ]
  },
  {
   "cell_type": "markdown",
   "metadata": {},
   "source": [
    "### All Star Catchers who have plaved in over 5 All Star games and over 100 games"
   ]
  },
  {
   "cell_type": "code",
   "execution_count": null,
   "metadata": {},
   "outputs": [],
   "source": [
    "query=\"\"\"\n",
    "select \"playerID\", \"POS\", \"yearID\", \"GS\", \"G\"\n",
    "from fielding \n",
    "where \"yearID\" >= '1947'\n",
    "and \"POS\" = 'C'\n",
    "and \"G\" > 100\n",
    "and \"playerID\" in  \n",
    "        (Select \"playerID\"  ---count(\"playerID\")\n",
    "        from allstar_full\n",
    "        group by \"playerID\"\n",
    "        having count(\"playerID\") > 5)\n",
    "\"\"\"\n",
    "\n",
    "All_Star_Catcher_100 = pd.read_sql_query(query, conn)"
   ]
  },
  {
   "cell_type": "code",
   "execution_count": null,
   "metadata": {},
   "outputs": [],
   "source": [
    "All_Star_Catcher_Stats_100 = pd.merge(All_Star_Catcher_100, Batting_Stats, on = [\"playerID\", \"yearID\"])"
   ]
  },
  {
   "cell_type": "code",
   "execution_count": null,
   "metadata": {},
   "outputs": [],
   "source": [
    "All_Star_Catcher_Stats_100.head(3)"
   ]
  },
  {
   "cell_type": "code",
   "execution_count": null,
   "metadata": {},
   "outputs": [],
   "source": [
    "All_Star_Catcher_Stats_100.to_csv('All_Star_Catcher_Stats_100.csv')"
   ]
  },
  {
   "cell_type": "code",
   "execution_count": null,
   "metadata": {},
   "outputs": [],
   "source": []
  }
 ],
 "metadata": {
  "kernelspec": {
   "display_name": "Python 3",
   "language": "python",
   "name": "python3"
  },
  "language_info": {
   "codemirror_mode": {
    "name": "ipython",
    "version": 3
   },
   "file_extension": ".py",
   "mimetype": "text/x-python",
   "name": "python",
   "nbconvert_exporter": "python",
   "pygments_lexer": "ipython3",
   "version": "3.6.6"
  }
 },
 "nbformat": 4,
 "nbformat_minor": 2
}
